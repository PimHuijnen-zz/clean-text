{
 "cells": [
  {
   "cell_type": "markdown",
   "metadata": {},
   "source": [
    "# Clean and write text data\n",
    "\n",
    "This script preprocesses all texts in in_dir and stores them as a list of tokens to do other stuff (option 1) or writes them back to in_dir (overwrite existing files) or to new files in another directory called out_dir (option 2). "
   ]
  },
  {
   "cell_type": "code",
   "execution_count": null,
   "metadata": {},
   "outputs": [],
   "source": [
    "import os\n",
    "import unicodedata\n",
    "import copy\n",
    "import re\n",
    "from collections import Counter\n",
    "from bs4 import BeautifulSoup\n",
    "from nltk.tokenize import word_tokenize  # needs to be installed first via nltk.download()\n",
    "from nltk.corpus import stopwords  # needs to be installed first via nltk.download()\n",
    "from nltk.stem import LancasterStemmer, PorterStemmer, RegexpStemmer, SnowballStemmer"
   ]
  },
  {
   "cell_type": "code",
   "execution_count": null,
   "metadata": {},
   "outputs": [],
   "source": [
    "indir = r'/path/to/files/'\n",
    "outdir = r'/path/to/outdir/'\n",
    "os.makedirs(os.path.dirname(outdir), exist_ok=True) # makes outdir if it doesn't exist already\n",
    "stopword_list = []"
   ]
  },
  {
   "cell_type": "markdown",
   "metadata": {},
   "source": [
    "### Option 1\n",
    "\n",
    "Loop through directory function without writing"
   ]
  },
  {
   "cell_type": "code",
   "execution_count": null,
   "metadata": {},
   "outputs": [],
   "source": [
    "def loop_through_directory(indir, stopwordfile=None, stem=False):\n",
    "    # list all files in a given directory\n",
    "    files = os.listdir(indir)\n",
    "    for infile in files:\n",
    "        # avoid opening files such as .DS_Store\n",
    "        if infile.startswith('.'):\n",
    "            continue\n",
    "        # open the file and do something with it, close when done\n",
    "        with open(indir+infile, \"r\") as f:\n",
    "            # try / except clause to catch encoding errors\n",
    "            try:\n",
    "                text = f.read()\n",
    "            except Exception:\n",
    "                print(Exception)\n",
    "        # remove html\n",
    "        clean_text = remove_html(text)\n",
    "        # tokenize to words (needed for subsequent operations)\n",
    "        words = word_tokenize(clean_text)\n",
    "        words = all_operations(words, stopwordfile, stem)"
   ]
  },
  {
   "cell_type": "markdown",
   "metadata": {},
   "source": [
    "### Option 2\n",
    "\n",
    "Loop through directory functie with writing to 1) in_dir (overwriting original files) or 2) out_dir (new files)"
   ]
  },
  {
   "cell_type": "code",
   "execution_count": null,
   "metadata": {},
   "outputs": [],
   "source": [
    "def loop_through_directory(indir, stopwordfile=None, stem=False):\n",
    "    # list all files in a given directory\n",
    "    files = os.listdir(indir)\n",
    "    for infile in files:\n",
    "        # avoid opening files such as .DS_Store\n",
    "        if infile.startswith('.'):\n",
    "            continue\n",
    "        # open the file and do something with it, close when done\n",
    "        with open(indir+infile, \"r\") as f:\n",
    "            # try / except clause to catch encoding errors\n",
    "            try:\n",
    "                text = f.read()\n",
    "            except Exception:\n",
    "                print(Exception)\n",
    "        # remove html\n",
    "        clean_text = remove_html(text)\n",
    "        # tokenize to words (needed for subsequent operations)\n",
    "        words = word_tokenize(clean_text)\n",
    "        words = all_operations(words, stopwordfile, stem)\n",
    "        # open output file for writing, create it if it doesn't exist\n",
    "        with open(outdir+infile, \"w\") as f: # change indir to outdir if you don't want to overwrite original files\n",
    "            # write out all words (converting the list to a string with spaces)\n",
    "            f.write(\" \".join(words))"
   ]
  },
  {
   "cell_type": "code",
   "execution_count": null,
   "metadata": {},
   "outputs": [],
   "source": [
    "def all_operations(words, stopwordfile, stem):\n",
    "    words = remove_short_words(words)\n",
    "    words = remove_non_ascii(words)\n",
    "    words = remove_punctuation(words)\n",
    "    words = remove_numbers(words)\n",
    "    words = to_lowercase(words)\n",
    "    words = remove_stop_words_languages(words)\n",
    "    words = remove_user_defined_list(words)\n",
    "    words = remove_unique_words(words)\n",
    "    if stopwordfile:\n",
    "        words = remove_user_defined_words(words, stopwordfile)\n",
    "    if stem:\n",
    "        words = stem_words(words)\n",
    "    return words"
   ]
  },
  {
   "cell_type": "code",
   "execution_count": null,
   "metadata": {},
   "outputs": [],
   "source": [
    "#Count words in words, add word to words only if word is not unique (to get rid of most crap)\n",
    "def remove_unique_words(words):\n",
    "    word_counts = Counter(words)\n",
    "    unique_words = [word for word in word_counts if word_counts[word] == 1]\n",
    "    words_without_uniques = [i for i in words if i not in unique_words]\n",
    "    return words_without_uniques"
   ]
  },
  {
   "cell_type": "code",
   "execution_count": null,
   "metadata": {},
   "outputs": [],
   "source": [
    "def remove_html(text):\n",
    "    \"\"\" Use the library BeautifulSoup (bs4) to remove html tags \"\"\"\n",
    "    soup = BeautifulSoup(text, \"lxml\")\n",
    "    clean_text = soup.get_text()\n",
    "    return clean_text\n",
    "\n",
    "def remove_non_ascii(words):\n",
    "    \"\"\"Remove non-ASCII characters from list of tokenized words\"\"\"\n",
    "    new_words = []\n",
    "    for word in words:\n",
    "        new_word = unicodedata.normalize('NFKD', word).encode('ascii', 'ignore').decode('utf-8', 'ignore')\n",
    "        new_words.append(new_word)\n",
    "    return new_words\n",
    " \n",
    "def to_lowercase(words):\n",
    "    \"\"\"Convert all characters to lowercase from list of tokenized words\"\"\"\n",
    "    new_words = []\n",
    "    for word in words:\n",
    "        new_word = word.lower()\n",
    "        new_words.append(new_word)\n",
    "    return new_words\n",
    "\n",
    "def remove_punctuation(words):\n",
    "    \"\"\"Remove punctuation from list of tokenized words\"\"\"\n",
    "    new_words = []\n",
    "    for word in words:\n",
    "        new_word = re.sub(r'[^\\w\\s]', '', word)\n",
    "        if new_word != '':\n",
    "            new_words.append(new_word)\n",
    "    return new_words\n",
    "\n",
    "def remove_numbers(words):\n",
    "    \"\"\"Remove all integer occurrences in list of tokenized words\n",
    "    \"\"\"\n",
    "    new_words = []\n",
    "    for word in words:\n",
    "        if not word.isdigit():\n",
    "            new_words.append(word)\n",
    "    return new_words\n",
    "\n",
    "def remove_short_words(words, n=4):\n",
    "    \"\"\" Remove all words shorter than n characters \"\"\"\n",
    "    new_words = []\n",
    "    for word in words:\n",
    "        if len(word) >= n:\n",
    "            new_words.append(word)\n",
    "    return new_words\n",
    "\n",
    "def remove_stop_words_languages(words, languages=['english']):\n",
    "    \"\"\" Remove stop words from specified languages \"\"\"\n",
    "    all_stop_words = []\n",
    "    for language in languages:\n",
    "        all_stop_words.extend(stopwords.words(language))\n",
    "    stop_words = list(set(all_stop_words))\n",
    "    return remove_stop_words(words, stop_words)\n",
    "\n",
    "def remove_user_defined_words(words, word_file):\n",
    "    \"\"\" Remove all words specified by user in word_file \"\"\"\n",
    "    with open(word_file) as f:\n",
    "        text = f.read()\n",
    "    stop_words = word_tokenize(text)\n",
    "    return remove_stop_words(words, stop_words)\n",
    "\n",
    "def remove_user_defined_list(words):\n",
    "    \"\"\" Given a hardcoded list of words and stop words, remove stop words \"\"\"\n",
    "    new_words = []\n",
    "    for word in words:\n",
    "        if word not in stopword_list:\n",
    "            new_words.append(word)\n",
    "    return new_words\n",
    "\n",
    "def remove_stop_words(words, stop_words):\n",
    "    \"\"\" Given a list of words and stop words, remove stop words \"\"\"\n",
    "    new_words = []\n",
    "    for word in words:\n",
    "        if word not in stop_words:\n",
    "            new_words.append(word)\n",
    "    return new_words\n",
    "\n",
    "def stem_words(words, stemmer=LancasterStemmer()):\n",
    "    \"\"\"Stem words in list of tokenized words\n",
    "    stemmer specifies the specific stemmer from nltk to use\n",
    "    \"\"\"\n",
    "    stems = []\n",
    "    for word in words:\n",
    "        stem = stemmer.stem(word)\n",
    "        stems.append(stem)\n",
    "    return stems"
   ]
  },
  {
   "cell_type": "code",
   "execution_count": null,
   "metadata": {},
   "outputs": [],
   "source": [
    "run_script = loop_through_directory(indir)"
   ]
  }
 ],
 "metadata": {
  "kernelspec": {
   "display_name": "Python 3",
   "language": "python",
   "name": "python3"
  },
  "language_info": {
   "codemirror_mode": {
    "name": "ipython",
    "version": 3
   },
   "file_extension": ".py",
   "mimetype": "text/x-python",
   "name": "python",
   "nbconvert_exporter": "python",
   "pygments_lexer": "ipython3",
   "version": "3.8.5"
  }
 },
 "nbformat": 4,
 "nbformat_minor": 4
}
